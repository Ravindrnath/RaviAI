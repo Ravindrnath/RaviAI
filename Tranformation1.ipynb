{
 "cells": [
  {
   "cell_type": "code",
   "execution_count": 47,
   "metadata": {},
   "outputs": [],
   "source": [
    "# ML model Life cycle Transformation1\n",
    "import numpy as np\n",
    "file=open(\"D:\\Ravi\\Ravi Data\\Machine Learning\\PythonClass\\Venu\\PatData.txt\")\n",
    "\n",
    "header=file.readline()\n",
    "lines=file.readlines()\n",
    "ins=[]\n",
    "gender=[]\n",
    "y=[]\n",
    "for line in lines:\n",
    "    w=line.strip().split(',')\n",
    "    ins.append([float(v) for v in w[2:5]])\n",
    "    gender.append(w[5])\n",
    "    y.append(w[-1])\n",
    "    \n",
    "freq={}\n",
    "for k in gender:\n",
    "    if freq.get(k)==None:\n",
    "        freq[k]=1\n",
    "    else:\n",
    "        freq[k]+=1\n",
    "        \n",
    "n=len(gender)\n",
    "prob={}\n",
    "for j in freq:\n",
    "    prob[j]=freq[j]/n\n",
    "new=[prob[k] for k in gender]\n",
    "\n",
    "noise=(2*np.random.random(len(gender))-1)*0.000001\n",
    "gen=new+noise\n",
    "\n",
    "q=np.c_[gen]\n",
    "X=np.concatenate((ins,q),axis=1)\n",
    "Y="
   ]
  },
  {
   "cell_type": "code",
   "execution_count": 48,
   "metadata": {},
   "outputs": [
    {
     "name": "stdout",
     "output_type": "stream",
     "text": [
      "{'M': 4, 'F': 6}\n",
      "10\n",
      "['M', 'F', 'F', 'M', 'F', 'F', 'M', 'F', 'F', 'M']\n",
      "[0.40000033 0.60000031 0.60000097 0.39999976 0.59999941 0.59999932\n",
      " 0.40000071 0.59999963 0.60000065 0.40000006]\n",
      "[[0.40000033]\n",
      " [0.60000031]\n",
      " [0.60000097]\n",
      " [0.39999976]\n",
      " [0.59999941]\n",
      " [0.59999932]\n",
      " [0.40000071]\n",
      " [0.59999963]\n",
      " [0.60000065]\n",
      " [0.40000006]]\n",
      "[[25.         50.          6.          0.40000033]\n",
      " [30.         55.          5.9         0.60000031]\n",
      " [34.         60.          5.4         0.60000097]\n",
      " [40.         65.          5.6         0.39999976]\n",
      " [32.         70.          5.5         0.59999941]\n",
      " [45.         60.          5.7         0.59999932]\n",
      " [32.         54.          5.2         0.40000071]\n",
      " [50.         70.          5.6         0.59999963]\n",
      " [37.         65.          5.8         0.60000065]\n",
      " [28.         65.          5.6         0.40000006]]\n"
     ]
    }
   ],
   "source": [
    "print(freq)\n",
    "print(n)\n",
    "print(gender)\n",
    "print(gen)\n",
    "print(q)\n",
    "print(X)"
   ]
  },
  {
   "cell_type": "code",
   "execution_count": null,
   "metadata": {},
   "outputs": [],
   "source": []
  }
 ],
 "metadata": {
  "kernelspec": {
   "display_name": "Python 3",
   "language": "python",
   "name": "python3"
  },
  "language_info": {
   "codemirror_mode": {
    "name": "ipython",
    "version": 3
   },
   "file_extension": ".py",
   "mimetype": "text/x-python",
   "name": "python",
   "nbconvert_exporter": "python",
   "pygments_lexer": "ipython3",
   "version": "3.7.4"
  }
 },
 "nbformat": 4,
 "nbformat_minor": 2
}
